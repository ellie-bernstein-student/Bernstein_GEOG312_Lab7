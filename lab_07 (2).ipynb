{
 "cells": [
  {
   "cell_type": "markdown",
   "metadata": {
    "id": "yTcJLEF4ZLPP"
   },
   "source": [
    "[![image](https://colab.research.google.com/assets/colab-badge.svg)](https://colab.research.google.com/github/giswqs/geog-312/blob/master/labs/lab_07.ipynb)\n",
    "[![image](https://binder.pangeo.io/badge_logo.svg)](https://gishub.org/geog312-pangeo)\n",
    "\n",
    "**Firstname Lastname**"
   ]
  },
  {
   "cell_type": "code",
   "execution_count": null,
   "metadata": {
    "id": "7M4rxQo41Yau"
   },
   "outputs": [],
   "source": []
  },
  {
   "cell_type": "code",
   "execution_count": null,
   "metadata": {
    "id": "WKVsAJ7fZLPr"
   },
   "outputs": [],
   "source": [
    "from datetime import datetime\n",
    "\n",
    "now = datetime.now()\n",
    "print(f\"Submitted time: {now}\")"
   ]
  },
  {
   "cell_type": "markdown",
   "metadata": {
    "id": "LqLcheD4ZLPs"
   },
   "source": [
    "## Question 1\n",
    "**Learning Python:** Open a blank file in your text editor and write a few lines summarizing what you’ve learned about Python so far. Start each line with the phrase *In Python you can. . ..* Save the file as *learning_python.txt* in the same directory as your exercises from this chapter. Write a program that reads the file and prints what you wrote three times. Print the contents once by reading in the entire file, once by looping over the file object, and once by storing the lines in a list and then working with them outside the *with* block."
   ]
  },
  {
   "cell_type": "code",
   "execution_count": 3,
   "metadata": {
    "id": "PiLKy3VdZLPt"
   },
   "outputs": [
    {
     "name": "stdout",
     "output_type": "stream",
     "text": [
      "﻿In python you can create a list.\n",
      "\n",
      "In python you can run loops.\n",
      "\n",
      "In python you can run conditional statements.\n",
      "﻿In python you can create a list.\n",
      "In python you can run loops.\n",
      "In python you can run conditional statements.\n",
      "﻿In python you can create a list.\n",
      "In python you can run loops.\n",
      "In python you can run conditional statements.\n"
     ]
    }
   ],
   "source": [
    "file_path = '/Users/elliebernstein/Downloads/learning_python.txt'\n",
    "with open(file_path) as file_object:\n",
    "  for line in file_object:\n",
    "        print(line)\n",
    "\n",
    "with open(file_path) as file_object:\n",
    "    contents = file_object.read()\n",
    "print(contents)\n",
    "\n",
    "with open(file_path) as file_object:\n",
    "    contents = file_object.read()\n",
    "    print(contents.rstrip())"
   ]
  },
  {
   "cell_type": "markdown",
   "metadata": {
    "id": "KzCyj8FBZLPt"
   },
   "source": [
    "## Question 2\n",
    "**Learning C:** You can use the replace() method to replace any word in a string with a different word. Here’s a quick example showing how to replace 'dog' with 'cat' in a sentence:\n",
    "```\n",
    "message = \"I really like dogs.\"\n",
    "message.replace('dog', 'cat')\n",
    "'I really like cats.'\n",
    "```\n",
    "Read in each line from the file you just created, *learning_python.txt*, and replace the word *Python* with the name of another language, such as *C*. Print each modified line to the screen."
   ]
  },
  {
   "cell_type": "code",
   "execution_count": 5,
   "metadata": {
    "id": "45tfeeVaZLPt"
   },
   "outputs": [
    {
     "name": "stdout",
     "output_type": "stream",
     "text": [
      "﻿In C you can create a list.\n",
      "In C you can run loops.\n",
      "In C you can run conditional statements.\n"
     ]
    }
   ],
   "source": [
    "file_path = '/Users/elliebernstein/Downloads/learning_python.txt'\n",
    "\n",
    "lines = contents.splitlines()\n",
    "for line in lines:\n",
    "    line = line.replace('python', 'C')\n",
    "    print(line)\n"
   ]
  },
  {
   "cell_type": "markdown",
   "metadata": {
    "id": "P0PMcnbWZLPt"
   },
   "source": [
    "## Question 3\n",
    "**Guest:** Write a program that prompts the user for their name. When they respond, write their name to a file called guest.txt."
   ]
  },
  {
   "cell_type": "code",
   "execution_count": 7,
   "metadata": {
    "id": "YMli29KEZLPt",
    "scrolled": false
   },
   "outputs": [
    {
     "name": "stdout",
     "output_type": "stream",
     "text": [
      "What is your name?h\n"
     ]
    }
   ],
   "source": [
    "import json\n",
    "prompt = input(\"What is your name?\")\n",
    "filename = \"guest.txt\"\n",
    "with open(filename, 'w') as f:\n",
    "    json.dump(prompt, f)"
   ]
  },
  {
   "cell_type": "markdown",
   "metadata": {
    "id": "JS6-q8GiZLPt"
   },
   "source": [
    "## Question 4\n",
    "**Guest Book:** Write a while loop that prompts users for their name. When they enter their name, print a greeting to the screen and add a line recording their visit in a file called guest_book.txt. Make sure each entry appears on a new line in the file."
   ]
  },
  {
   "cell_type": "code",
   "execution_count": 8,
   "metadata": {
    "id": "dMF_Cx99ZLPt"
   },
   "outputs": [
    {
     "name": "stdout",
     "output_type": "stream",
     "text": [
      "What is your name?h\n",
      "Thanks h, you will be added to the guest book.\n",
      "What is your name?f\n",
      "Thanks f, you will be added to the guest book.\n",
      "What is your name?w\n",
      "Thanks w, you will be added to the guest book.\n",
      "What is your name?quit\n"
     ]
    }
   ],
   "source": [
    "file_path = '/Users/elliebernstein/Downloads/guest_book.txt'\n",
    "\n",
    "guest_names = []\n",
    "while True:\n",
    "    name = input(\"What is your name?\")\n",
    "    if name == 'quit':\n",
    "        break\n",
    "    print(f\"Thanks {name}, you will be added to the guest book.\")\n",
    "    guest_names.append(name)\n",
    "\n",
    "with open(file_path, 'w') as f:\n",
    "    json.dump(guest_names, f)"
   ]
  },
  {
   "cell_type": "markdown",
   "metadata": {
    "id": "LpxkAMIOZLPt"
   },
   "source": [
    "## Question 5\n",
    "**Programming Poll:** Write a while loop that asks people why they like programming. Each time someone enters a reason, add their reason to a file that stores all the responses."
   ]
  },
  {
   "cell_type": "code",
   "execution_count": 10,
   "metadata": {
    "id": "EyZ-7gBkZLPu"
   },
   "outputs": [
    {
     "name": "stdout",
     "output_type": "stream",
     "text": [
      "Why do you like programming?f\n",
      "Why do you like programming?quit\n"
     ]
    }
   ],
   "source": [
    "file_path = '/Users/elliebernstein/Downloads/program_poll'\n",
    "\n",
    "reasons = []\n",
    "while True:\n",
    "    name = input(\"Why do you like programming?\")\n",
    "    if name == 'quit':\n",
    "        break\n",
    "    reasons.append(name)\n",
    "\n",
    "with open(file_path, 'w') as f:\n",
    "    json.dump(reasons, f)"
   ]
  },
  {
   "cell_type": "markdown",
   "metadata": {
    "id": "T5bSsNFNZLPu"
   },
   "source": [
    "## Question 6\n",
    "**Addition:** One common problem when prompting for numerical input occurs when people provide text instead of numbers. When you try to convert the input to an int, you’ll get a ValueError. Write a program that prompts for two numbers. Add them together and print the result. Catch the ValueError if either input value is not a number, and print a friendly error message. Test your program by entering two numbers and then by entering some text instead of a number."
   ]
  },
  {
   "cell_type": "code",
   "execution_count": 14,
   "metadata": {
    "id": "D0eWdvS_ZLPu"
   },
   "outputs": [
    {
     "name": "stdout",
     "output_type": "stream",
     "text": [
      "give number: 6\n",
      "give second number: 6\n",
      "The sum of 6 and 6 is 12\n"
     ]
    }
   ],
   "source": [
    "try:\n",
    "    x = input(\"give number: \")\n",
    "    x = int(x)\n",
    "\n",
    "    y = input(\"give second number: \")\n",
    "    y = int(y)\n",
    "except ValueError:\n",
    "    print(\"Error\")\n",
    "else:\n",
    "    sum = x + y\n",
    "    print(f\"The sum of {x} and {y} is {sum}\")"
   ]
  },
  {
   "cell_type": "markdown",
   "metadata": {
    "id": "uA4nwPuKZLPu"
   },
   "source": [
    "### Question 7\n",
    "**Addition Calculator:** Wrap your code from Question 6 in a while loop so the user can continue entering numbers even if they make a mistake and enter text instead of a number."
   ]
  },
  {
   "cell_type": "code",
   "execution_count": 15,
   "metadata": {
    "id": "IiLtRvajZLPu"
   },
   "outputs": [
    {
     "name": "stdout",
     "output_type": "stream",
     "text": [
      "Type Quit at any time\n",
      "give number: f\n",
      "error.\n",
      "give number: quit\n",
      "error.\n",
      "give number: Quit\n"
     ]
    }
   ],
   "source": [
    "print(\"Type Quit at any time\")\n",
    "while True:\n",
    "    try:\n",
    "        x = input(\"give number: \")\n",
    "        if x == 'Quit':\n",
    "            break\n",
    "        x = int(x)\n",
    "        y = input(\"give second number: \")\n",
    "        if y == 'q':\n",
    "            break\n",
    "        y = int(y)\n",
    "    except ValueError:\n",
    "        print(\"error.\")\n",
    "    else:\n",
    "        sum = x + y\n",
    "        print(f\"{x} plus {y} is {sum}\")"
   ]
  },
  {
   "cell_type": "markdown",
   "metadata": {
    "id": "6lXXqdPyZLPu"
   },
   "source": [
    "## Question 8\n",
    "**Cats and Dogs:** Make two files, *cats.txt* and *dogs.txt*. Store at least three names of cats in the first file and three names of dogs in the second file. Write a program that tries to read these files and print the contents of the file to the screen. Wrap your code in a `try-except` block to catch the `FileNotFound` error, and print a friendly message if a file is missing. Move one of the files to a different location on your system, and make sure the code in the `except` block executes properly."
   ]
  },
  {
   "cell_type": "code",
   "execution_count": 25,
   "metadata": {
    "id": "pJ8nNPc3ZLPu"
   },
   "outputs": [
    {
     "name": "stdout",
     "output_type": "stream",
     "text": [
      "file: /Users/elliebernstein/Downloads/cats.txt\n",
      "﻿lemon\n",
      "orange\n",
      "boots\n",
      "file: /Users/elliebernstein/Downloads/dogs.txt\n",
      "﻿ruff\n",
      "cutie\n",
      "spots\n"
     ]
    }
   ],
   "source": [
    "dogs = '/Users/elliebernstein/Downloads/dogs.txt'\n",
    "cats = '/Users/elliebernstein/Downloads/cats.txt'\n",
    "filenames = [cats,dogs]\n",
    "for filename in filenames:\n",
    "    print(f\"file: {filename}\")\n",
    "    try:\n",
    "        with open(filename, encoding='utf-8') as f:\n",
    "            contents = f.read()\n",
    "    except FileNotFoundError:\n",
    "        print(f\"Sorry, the file {filename} does not exist.\")\n",
    "    else:\n",
    "        print(contents)"
   ]
  },
  {
   "cell_type": "markdown",
   "metadata": {
    "id": "cvni9UXoZLPu"
   },
   "source": [
    "## Question 9\n",
    "**Silent Cats and Dogs:** Modify your except block in Question 8 to fail silently if either file is missing."
   ]
  },
  {
   "cell_type": "code",
   "execution_count": 26,
   "metadata": {
    "id": "h1XGt_h_ZLPu"
   },
   "outputs": [
    {
     "name": "stdout",
     "output_type": "stream",
     "text": [
      "file: /Users/elliebernstein/Downloads/cats.txt\n",
      "﻿lemon\n",
      "orange\n",
      "boots\n",
      "file: /Users/elliebernstein/Downloads/dogs.txt\n",
      "﻿ruff\n",
      "cutie\n",
      "spots\n"
     ]
    }
   ],
   "source": [
    "dogs = '/Users/elliebernstein/Downloads/dogs.txt'\n",
    "cats = '/Users/elliebernstein/Downloads/cats.txt'\n",
    "filenames = [cats,dogs]\n",
    "for filename in filenames:\n",
    "    print(f\"file: {filename}\")\n",
    "    try:\n",
    "        with open(filename, encoding='utf-8') as f:\n",
    "            contents = f.read()\n",
    "    except FileNotFoundError:\n",
    "        pass\n",
    "    else:\n",
    "        print(contents)"
   ]
  },
  {
   "cell_type": "markdown",
   "metadata": {
    "id": "jPl73A88ZLPv"
   },
   "source": [
    "## Question 10\n",
    "**Common Words:** Visit Project Gutenberg (https://gutenberg.org/) and find a few texts you’d like to analyze. Download the text files for these works, or copy the raw text from your browser into a text file on your computer. You can use the `count()` method to find out how many times a word or phrase appears in a string. For example, the following code counts the number of times 'row' appears in a string:"
   ]
  },
  {
   "cell_type": "code",
   "execution_count": null,
   "metadata": {
    "id": "6lO1UlwQZLPv",
    "outputId": "308b53d3-d1ae-41d5-df7f-ee97f101f3fb"
   },
   "outputs": [
    {
     "data": {
      "text/plain": [
       "2"
      ]
     },
     "execution_count": 1,
     "metadata": {},
     "output_type": "execute_result"
    }
   ],
   "source": [
    "line = \"Row, row, row your boat\"\n",
    "line.count('row')"
   ]
  },
  {
   "cell_type": "code",
   "execution_count": null,
   "metadata": {
    "id": "__UdJDLvZLPv",
    "outputId": "c0968511-1960-45d0-83a4-bdc5188e2054"
   },
   "outputs": [
    {
     "data": {
      "text/plain": [
       "3"
      ]
     },
     "execution_count": 2,
     "metadata": {},
     "output_type": "execute_result"
    }
   ],
   "source": [
    "line.lower().count('row')"
   ]
  },
  {
   "cell_type": "markdown",
   "metadata": {
    "id": "7k91zl8aZLPv"
   },
   "source": [
    "Notice that converting the string to lowercase using lower() catches all appearances of the word you’re looking for, regardless of how it’s formatted.\n",
    "\n",
    "Write a program that reads the files you found at Project Gutenberg and determines how many times the word `the` appears in each text. This will be an approximation because it will also count words such as `then` and `there`. Try counting `the`, with a space in the string, and see how much lower your count is."
   ]
  },
  {
   "cell_type": "code",
   "execution_count": 32,
   "metadata": {
    "id": "YL6JHNELZLPw"
   },
   "outputs": [
    {
     "ename": "UnicodeDecodeError",
     "evalue": "'utf-8' codec can't decode byte 0x88 in position 12: invalid start byte",
     "output_type": "error",
     "traceback": [
      "\u001b[0;31m---------------------------------------------------------------------------\u001b[0m",
      "\u001b[0;31mUnicodeDecodeError\u001b[0m                        Traceback (most recent call last)",
      "Cell \u001b[0;32mIn[32], line 14\u001b[0m\n\u001b[1;32m     11\u001b[0m         \u001b[38;5;28mprint\u001b[39m(msg)\n\u001b[1;32m     13\u001b[0m filename \u001b[38;5;241m=\u001b[39m \u001b[38;5;124m'\u001b[39m\u001b[38;5;124mpg72354.epub\u001b[39m\u001b[38;5;124m'\u001b[39m\n\u001b[0;32m---> 14\u001b[0m count_common_words(filename, \u001b[38;5;124m'\u001b[39m\u001b[38;5;124mthe\u001b[39m\u001b[38;5;124m'\u001b[39m)\n",
      "Cell \u001b[0;32mIn[32], line 5\u001b[0m, in \u001b[0;36mcount_common_words\u001b[0;34m(file_path, word)\u001b[0m\n\u001b[1;32m      3\u001b[0m \u001b[38;5;28;01mtry\u001b[39;00m:\n\u001b[1;32m      4\u001b[0m     \u001b[38;5;28;01mwith\u001b[39;00m \u001b[38;5;28mopen\u001b[39m(filename, encoding\u001b[38;5;241m=\u001b[39m\u001b[38;5;124m'\u001b[39m\u001b[38;5;124mutf-8\u001b[39m\u001b[38;5;124m'\u001b[39m) \u001b[38;5;28;01mas\u001b[39;00m f:\n\u001b[0;32m----> 5\u001b[0m         contents \u001b[38;5;241m=\u001b[39m f\u001b[38;5;241m.\u001b[39mread()\n\u001b[1;32m      6\u001b[0m \u001b[38;5;28;01mexcept\u001b[39;00m \u001b[38;5;167;01mFileNotFoundError\u001b[39;00m:\n\u001b[1;32m      7\u001b[0m     \u001b[38;5;28;01mpass\u001b[39;00m\n",
      "File \u001b[0;32m<frozen codecs>:322\u001b[0m, in \u001b[0;36mdecode\u001b[0;34m(self, input, final)\u001b[0m\n",
      "\u001b[0;31mUnicodeDecodeError\u001b[0m: 'utf-8' codec can't decode byte 0x88 in position 12: invalid start byte"
     ]
    }
   ],
   "source": [
    "file_path = \"/Users/elliebernstein/Downloads/pg72354.epub\"\n",
    "def count_common_words (file_path, word):\n",
    "    try:\n",
    "        with open(filename, encoding='utf-8') as f:\n",
    "            contents = f.read()\n",
    "    except FileNotFoundError:\n",
    "        pass\n",
    "    else:\n",
    "        word_count = contents.lower().count(word)\n",
    "        msg = f\"'{word}' appears in {filename} about {word_count} times.\"\n",
    "        print(msg)\n",
    "        \n",
    "filename = 'pg72354.epub'\n",
    "count_common_words(filename, 'the')"
   ]
  },
  {
   "cell_type": "markdown",
   "metadata": {
    "id": "iqH_Qr08ZLPw"
   },
   "source": [
    "## Question 11\n",
    "**Favorite Number:** Write a program that prompts for the user’s favorite number. Use `json.dump()` to store this number in a file. Write a separate program that reads in this value and prints the message, `I know your favorite number! It’s _____.`"
   ]
  },
  {
   "cell_type": "code",
   "execution_count": null,
   "metadata": {},
   "outputs": [],
   "source": [
    "import json\n",
    "\n",
    "file_path = \"/Users/elliebernstein/Downloads/fav_num\"\n",
    "\n",
    "number = input(\"What's your favorite number? \")\n",
    "\n",
    "with open(file_path, 'w') as f:\n",
    "    json.dump(number, f)"
   ]
  },
  {
   "cell_type": "code",
   "execution_count": null,
   "metadata": {
    "id": "Hq4HR3IYZLPw"
   },
   "outputs": [],
   "source": [
    "import json\n",
    "\n",
    "file_path = \"/Users/elliebernstein/Downloads/fav_num\"\n",
    "\n",
    "with open(file_path, 'w') as f:\n",
    "    number = json.load(f)\n",
    "\n",
    "print(f\"I know your favorite number! It's {number}.\")"
   ]
  },
  {
   "cell_type": "markdown",
   "metadata": {
    "id": "UMk37IHPZLPw"
   },
   "source": [
    "## Question 12\n",
    "**Favorite Number Remembered:** Combine the two programs from Question 10 into one file. If the number is already stored, report the favorite number to the user. If not, prompt for the user’s favorite number and store it in a file. Run the program twice to see that it works."
   ]
  },
  {
   "cell_type": "code",
   "execution_count": null,
   "metadata": {
    "id": "02vRPxXUZLPw"
   },
   "outputs": [],
   "source": [
    "import json\n",
    "\n",
    "file_path = \"/Users/elliebernstein/Downloads/fav_num\"\n",
    "\n",
    "number = input(\"What's your favorite number? \")\n",
    "\n",
    "with open(file_path, 'w') as f:\n",
    "    json.dump(number, f)\n",
    "    \n",
    "\n",
    "with open(file_path, 'w') as f:\n",
    "    numbers = json.load(f)\n",
    "\n",
    "print(f\"I know your favorite number! It's {number}.\")"
   ]
  },
  {
   "cell_type": "code",
   "execution_count": null,
   "metadata": {},
   "outputs": [],
   "source": []
  }
 ],
 "metadata": {
  "colab": {
   "provenance": []
  },
  "kernelspec": {
   "display_name": "Python 3 (ipykernel)",
   "language": "python",
   "name": "python3"
  },
  "language_info": {
   "codemirror_mode": {
    "name": "ipython",
    "version": 3
   },
   "file_extension": ".py",
   "mimetype": "text/x-python",
   "name": "python",
   "nbconvert_exporter": "python",
   "pygments_lexer": "ipython3",
   "version": "3.11.4"
  }
 },
 "nbformat": 4,
 "nbformat_minor": 1
}
